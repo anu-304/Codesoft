{
 "cells": [
  {
   "cell_type": "code",
   "execution_count": 10,
   "id": "fc6877f0-c07c-4c39-9e37-beaabd54bab6",
   "metadata": {},
   "outputs": [
    {
     "name": "stdout",
     "output_type": "stream",
     "text": [
      "password generated: kDAVmw7a\n"
     ]
    }
   ],
   "source": [
    "import random\n",
    "import string\n",
    "import tkinter as tk\n",
    "from tkinter import *\n",
    "\n",
    "def password_generator(size):\n",
    "    password=''.join(random.choice(string.digits+string.ascii_letters)for i in range(size))\n",
    "    return password\n",
    "\n",
    "def mainfunc():\n",
    "        size=int(e1.get())\n",
    "        result=password_generator(size)\n",
    "        res_label.config(text=f\"Generated password: {result}\")\n",
    "        print(\"password generated:\", result)\n",
    "\n",
    "\n",
    "window=Tk()\n",
    "window.title(\"Password generator\")\n",
    "window.geometry('350x100')\n",
    "Label(window,text=\"Enter the length of the password: \").grid(row=0)\n",
    "e1=Entry(window)\n",
    "e1.grid(row=0,column=1)\n",
    "\n",
    "button=tk.Button(window,text=\"Generate password\",command=mainfunc)\n",
    "button.place(relx=0.5,rely=0.5,anchor=CENTER)\n",
    "\n",
    "res_label=Label(window,text=\"\")\n",
    "res_label.grid(row=1,column=0,padx=20, pady=50)\n",
    "#res_label.grid(row=4, column=0, sticky='w', padx=20, pady=50)\n",
    "#res_label.place(relx=0.1,rely=0.1,anchor=s)\n",
    "\n",
    "window.mainloop()"
   ]
  },
  {
   "cell_type": "code",
   "execution_count": null,
   "id": "0bbbbf4a-590e-41ac-9494-ad4c96004559",
   "metadata": {},
   "outputs": [],
   "source": []
  }
 ],
 "metadata": {
  "kernelspec": {
   "display_name": "Python 3 (ipykernel)",
   "language": "python",
   "name": "python3"
  },
  "language_info": {
   "codemirror_mode": {
    "name": "ipython",
    "version": 3
   },
   "file_extension": ".py",
   "mimetype": "text/x-python",
   "name": "python",
   "nbconvert_exporter": "python",
   "pygments_lexer": "ipython3",
   "version": "3.11.7"
  }
 },
 "nbformat": 4,
 "nbformat_minor": 5
}
